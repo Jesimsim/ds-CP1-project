{
  "cells": [
    {
      "cell_type": "markdown",
      "metadata": {
        "id": "t3Y79VQ-9DjD"
      },
      "source": [
        "# **Paper/Report Summarization Service**"
      ]
    },
    {
      "cell_type": "markdown",
      "metadata": {
        "id": "yy2cqaDb9DjE"
      },
      "source": [
        "- 본 서비스는 논문 및 레포트의 초록을 요약하여 주제문을 생성하는 서비스입니다.\n",
        "- data 폴더에 txt 파일을 넣으면, 파일 내에서 혹은 result 폴더 내 excel 파일을 통해 결과를 확인하실 수 있습니다.\n",
        "- [파일 불러오기 및 전처리]를 실행시킨 후 [요약문 생성 및 확인]을 실행해주시기 바랍니다."
      ]
    },
    {
      "cell_type": "markdown",
      "metadata": {
        "id": "K-49c57r9DjE"
      },
      "source": [
        "## **파일 불러오기 및 전처리**\n",
        "- 실행 시 파일을 불러와, 모델에 알맞은 형태로 자동으로 가공합니다\n",
        "- 하단 [요약문 생성 및 확인]을 실행시키기 전 반드시 실행시켜주시기 바랍니다"
      ]
    },
    {
      "cell_type": "code",
      "execution_count": null,
      "metadata": {
        "id": "_LezMKug9DjF",
        "outputId": "554c7b93-6b22-49ce-801c-1192824a5ac6"
      },
      "outputs": [
        {
          "name": "stdout",
          "output_type": "stream",
          "text": [
            "     file_name                                               text\n",
            "0  sample0.txt  본 연구는 코로나19 이후 초등학생의 신체활동량과 신체적자기개념, 그리고 긍정심리자...\n",
            "1  sample1.txt  본 논문에서는 한국어 디비피디아의 웹 자원 접근성 개선과 한국어 워드넷 연결을 통한...\n",
            "2  sample2.txt  창업의 중요성에 대한 인식이 높아지면서 인생의 진로를 창업으로 결정하는 예비 창업가...\n"
          ]
        }
      ],
      "source": [
        "import os\n",
        "import pandas as pd\n",
        "from utils.Preprocess import Reader, Preprocessor\n",
        "\n",
        "file_path = os.path.join(os.getcwd(), "data")
        "file_list = os.listdir(file_path)\n",
        "\n",
        "data = Reader(file_path, file_list)\n",
        "data = Preprocessor(data)\n",
        "print(data)\n"
      ]
    },
    {
      "cell_type": "markdown",
      "metadata": {
        "id": "4r1we5NV9DjG"
      },
      "source": [
        "## **요약문 생성 및 확인**\n",
        "- 파일이 한 개일 경우, 파일 내에서 바로 결과를 확인하실 수 있습니다\n",
        "    - 여러 개일 경우 첫번째 파일의 결과만 출력됩니다\n",
        "- 파일이 여러 개일 경우, result 폴더 내 excel 파일을 통해 결과를 확인하실 수 있습니다\n",
        "    - 단, excel 파일이 열려있으면 제대로 동작하지 않습니다. 실행 전 excel 파일이 열려있지 않은지 확인해주세요.\n",
        "    - 파일이 한 개인 경우에도 excel 파일을 통해 결과를 저장하실 수 있습니다"
      ]
    },
    {
      "cell_type": "markdown",
      "metadata": {
        "id": "KObncd3m9DjG"
      },
      "source": [
        "#### **결과 확인하기(파일이 한 개인 경우)**"
      ]
    },
    {
      "cell_type": "code",
      "execution_count": null,
      "metadata": {
        "id": "5Hh6GZkt9DjG",
        "outputId": "b2e2da7a-b5c1-4652-8c25-6336c2f9da17"
      },
      "outputs": [
        {
          "name": "stderr",
          "output_type": "stream",
          "text": [
            "c:\\Users\\SIMJIEUN\\anaconda3\\envs\\test-python3.6.9\\lib\\site-packages\\torch\\_tensor.py:575: UserWarning: floor_divide is deprecated, and will be removed in a future version of pytorch. It currently rounds toward 0 (like the 'trunc' function NOT 'floor'). This results in incorrect rounding for negative values.\n",
            "To keep the current behavior, use torch.div(a, b, rounding_mode='trunc'), or for actual floor division, use torch.div(a, b, rounding_mode='floor'). (Triggered internally at  ..\\aten\\src\\ATen\\native\\BinaryOps.cpp:467.)\n",
            "  return torch.floor_divide(self, other)\n"
          ]
        },
        {
          "name": "stdout",
          "output_type": "stream",
          "text": [
            "코로나19 이후 초등학생의 신체활동량과 신체적자기개념, 그리고 긍정심리자본의 관계를 탐색하고자 운동참여가 긍정심리자본에 영향력을 행사하는 과정에서 신체적자기개념의 매개효과를 검증하고자 하였다.\n"
          ]
        }
      ],
      "source": [
        "# 해당 논문/리포트에 대한 요약문을 생성한 후, 요약결과를 하단에 출력합니다\n",
        "from utils.Summarize import Summrizer\n",
        "text = data['text'][0]\n",
        "summary = Summrizer(text)\n",
        "print(summary)"
      ]
    },
    {
      "cell_type": "markdown",
      "metadata": {
        "id": "9im6o7Na9DjG"
      },
      "source": [
        "#### **액셀 파일로 저장하기(파일이 한 개 혹은 여러 개인 경우)**"
      ]
    },
    {
      "cell_type": "code",
      "execution_count": null,
      "metadata": {
        "id": "IRr4c-FP9DjG"
      },
      "outputs": [],
      "source": [
        "# 각 논문/리포트에 대한 요약문을 생성합니다\n",
        "from utils.Summarize import Summrizer\n",
        "data['summary'] = data['text'].apply(lambda x: Summrizer(x))"
      ]
    },
    {
      "cell_type": "code",
      "execution_count": null,
      "metadata": {
        "id": "YOfHWFS-9DjH"
      },
      "outputs": [],
      "source": [
        "# 요약결과를 액셀파일로 생성합니다\n",
        "data.to_excel('.\\\\result\\\\summary.xlsx', encoding='utf-8')"
      ]
    }
  ],
  "metadata": {
    "kernelspec": {
      "display_name": "test-python3.6.9",
      "language": "python",
      "name": "python3"
    },
    "language_info": {
      "codemirror_mode": {
        "name": "ipython",
        "version": 3
      },
      "file_extension": ".py",
      "mimetype": "text/x-python",
      "name": "python",
      "nbconvert_exporter": "python",
      "pygments_lexer": "ipython3",
      "version": "3.6.9"
    },
    "orig_nbformat": 4,
    "colab": {
      "provenance": []
    }
  },
  "nbformat": 4,
  "nbformat_minor": 0
}
